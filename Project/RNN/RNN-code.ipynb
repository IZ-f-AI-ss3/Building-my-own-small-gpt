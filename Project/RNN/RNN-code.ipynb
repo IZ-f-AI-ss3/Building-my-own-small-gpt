{
 "cells": [
  {
   "cell_type": "code",
   "execution_count": 46,
   "metadata": {},
   "outputs": [],
   "source": [
    "import pandas as pd\n",
    "import torch\n",
    "import torch.nn as nn\n",
    "import torch.optim as optim\n",
    "from torch.utils.data import DataLoader, Dataset\n",
    "import torch.nn.functional as F\n",
    "import random\n",
    "from tqdm import tqdm\n",
    "\n",
    "import os\n",
    "from torch.utils.tensorboard.writer import SummaryWriter\n",
    "import numpy as np\n",
    "import time\n",
    "import math"
   ]
  },
  {
   "cell_type": "code",
   "execution_count": 49,
   "metadata": {},
   "outputs": [],
   "source": [
    "\n",
    "class RNN(nn.Module) : # output_size should be vocab_size?\n",
    "    def __init__(self, input_size, hidden_size, output_size, num_layers=1, activation = nn.Tanh, dropout=0.0):\n",
    "        super(RNN, self).__init__()\n",
    "        self.embedding = nn.Embedding(output_size , input_size)\n",
    "        self.Wyh = nn.Linear(num_layers*hidden_size ,output_size ) \n",
    "        self.Whh = nn.ModuleList([nn.Linear(hidden_size, hidden_size) for _ in range(num_layers)])\n",
    "        self.Whx  = nn.ModuleList([nn.Linear(input_size, hidden_size) for _ in range(num_layers)]) #nn.Linear(input_size, hidden_size*num_layers, bias=False)\n",
    "        self.dropout = nn.Dropout(dropout)\n",
    "        self.activation = activation()\n",
    "        # self.input_size = input_size\n",
    "        self.hidden_size = hidden_size\n",
    "        self.output_size = output_size\n",
    "        self.num_layers = num_layers\n",
    "\n",
    "\n",
    "    def forward(self , input , target = None)  :# (batch_size, seq_len (long))\n",
    "        batch_size, seq_len = input.shape\n",
    "\n",
    "        input = self.embedding(input)  # (batch_size, seq_len , input_size)\n",
    "\n",
    "        h = torch.zeros((self.num_layers , batch_size,self.hidden_size) , device=input.device)  # (num_layers ,batch_size, hidden_size )\n",
    "\n",
    "        output = torch.zeros((batch_size, seq_len , self.output_size), device = input.device) # (batch_size, seq_len , output_dim)\n",
    "        for id in range(seq_len) :\n",
    "            x = input[:,id] # (batch_size, input_size)\n",
    "            \n",
    "            for layer_id  in range(self.num_layers) :\n",
    "\n",
    "                h[layer_id] = self.Whh[layer_id](h[layer_id]) + self.Whx[layer_id](x)   # (num_layers ,batch_size,hidden_size)\n",
    "\n",
    "            h = self.activation(h) # (num_layers ,batch_size, hidden_dim)\n",
    "            h = self.dropout(h)  # (num_layers , batch_size, hidden_dim)\n",
    "            aggregation = h.transpose(0,1).contiguous().view(batch_size,-1) # (batch_size, hidden_dim*num_layers) \n",
    "            y = self.Wyh(aggregation)    # (batch_size, output_dim)\n",
    "            output[:,id, :] = y # (batch_size, output_dim)\n",
    "\n",
    "        if target is None :\n",
    "            y = F.softmax(y , dim = -1) # (batch_size, seq_len , output_dim)\n",
    "            loss = None\n",
    "\n",
    "        else :\n",
    "            output = output.view(batch_size*seq_len,-1)\n",
    "            target = target.view(-1)\n",
    "            loss = F.cross_entropy(output, target)\n",
    "\n",
    "        return output, loss"
   ]
  },
  {
   "cell_type": "code",
   "execution_count": 50,
   "metadata": {},
   "outputs": [
    {
     "name": "stdout",
     "output_type": "stream",
     "text": [
      "3.4314284324645996\n"
     ]
    }
   ],
   "source": [
    "\n",
    "model = RNN(64,16,31 , num_layers=5)\n",
    "tensor1 = torch.randint(0,31,(8,5))\n",
    "tensor2 = torch.randint(0,31,(8,5))\n",
    "\n",
    "output,loss= model(tensor1,tensor2)\n",
    "output.shape\n",
    "print(loss.item())"
   ]
  }
 ],
 "metadata": {
  "kernelspec": {
   "display_name": ".venv1",
   "language": "python",
   "name": "python3"
  },
  "language_info": {
   "codemirror_mode": {
    "name": "ipython",
    "version": 3
   },
   "file_extension": ".py",
   "mimetype": "text/x-python",
   "name": "python",
   "nbconvert_exporter": "python",
   "pygments_lexer": "ipython3",
   "version": "3.12.4"
  }
 },
 "nbformat": 4,
 "nbformat_minor": 2
}
